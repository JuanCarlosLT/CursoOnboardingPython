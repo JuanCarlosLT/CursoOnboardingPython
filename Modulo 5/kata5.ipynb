{
 "cells": [
  {
   "cell_type": "code",
   "execution_count": 3,
   "metadata": {},
   "outputs": [
    {
     "name": "stdout",
     "output_type": "stream",
     "text": [
      "Distancia en kilometros:  628949330\n",
      "Distancia en millas:  390577533.93\n"
     ]
    }
   ],
   "source": [
    "tierra = 149597870\n",
    "jupiter = 778547200\n",
    "#resta\n",
    "distanciaKM = jupiter - tierra\n",
    "print('Distancia en kilometros: ',distanciaKM)\n",
    "distanciaMillas = distanciaKM * 0.621\n",
    "print('Distancia en millas: ',distanciaMillas)\n"
   ]
  },
  {
   "cell_type": "code",
   "execution_count": 6,
   "metadata": {},
   "outputs": [
    {
     "name": "stdout",
     "output_type": "stream",
     "text": [
      "Distancia entre planetas en millas:  31236300.0\n"
     ]
    }
   ],
   "source": [
    "ditanciaPlaneta1 = int(input(\"Introduzca la distacia del sol a su primer planeta (recuerde colocarlos en KM)\"))\n",
    "ditanciaPlaneta2 = int(input(\"Introduzca la distacia del sol a su segundo planeta (recuerde colocarlos en KM)\"))\n",
    "distanciaKm = ditanciaPlaneta1 - ditanciaPlaneta2\n",
    "distanciaM = distanciaKm*0.621\n",
    "print('Distancia entre planetas en millas: ',abs(distanciaM))\n"
   ]
  }
 ],
 "metadata": {
  "interpreter": {
   "hash": "409e9466594ad2b05b3243a56daf0c2959e53ee512aeeca6e2f0ff8002f26f46"
  },
  "kernelspec": {
   "display_name": "Python 3.10.2 64-bit",
   "language": "python",
   "name": "python3"
  },
  "language_info": {
   "codemirror_mode": {
    "name": "ipython",
    "version": 3
   },
   "file_extension": ".py",
   "mimetype": "text/x-python",
   "name": "python",
   "nbconvert_exporter": "python",
   "pygments_lexer": "ipython3",
   "version": "3.10.2"
  },
  "orig_nbformat": 4
 },
 "nbformat": 4,
 "nbformat_minor": 2
}
