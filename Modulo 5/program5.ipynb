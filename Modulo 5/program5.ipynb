{
 "cells": [
  {
   "cell_type": "code",
   "execution_count": 10,
   "metadata": {},
   "outputs": [
    {
     "name": "stdout",
     "output_type": "stream",
     "text": [
      "42\n",
      "18\n",
      "360\n",
      "2.5\n",
      "17\n",
      "22\n",
      "1084\n",
      "1084\n",
      "215\n",
      "215.3\n",
      "23\n",
      "23\n",
      "15\n",
      "13\n",
      "12\n"
     ]
    }
   ],
   "source": [
    "answer = 30 + 12\n",
    "print(answer)\n",
    "difference = 30 - 12\n",
    "print(difference)\n",
    "product = 30 * 12\n",
    "print(product)\n",
    "quotient = 30 / 12\n",
    "print(quotient)\n",
    "seconds = 1042\n",
    "display_minutes = 1042 // 60\n",
    "display_seconds = 1042 % 60\n",
    "print(display_minutes)\n",
    "print(display_seconds)\n",
    "result_1 = 1032 + 26 * 2\n",
    "result_2 = 1032 + (26 * 2)\n",
    "print(result_1)\n",
    "print(result_2)\n",
    "demo_int = int('215')\n",
    "print(demo_int)\n",
    "demo_float = float('215.3')\n",
    "print(demo_float)\n",
    "a = 39 - 16\n",
    "b = 16 - 39\n",
    "print(abs(39 - 16))\n",
    "print(abs(16 - 39))\n",
    "print(round(14.6))\n",
    "\n",
    "from math import ceil, floor\n",
    "\n",
    "round_up = ceil(12.5)\n",
    "print(round_up)\n",
    "\n",
    "round_down = floor(12.5)\n",
    "print(round_down)"
   ]
  }
 ],
 "metadata": {
  "interpreter": {
   "hash": "409e9466594ad2b05b3243a56daf0c2959e53ee512aeeca6e2f0ff8002f26f46"
  },
  "kernelspec": {
   "display_name": "Python 3.10.2 64-bit",
   "language": "python",
   "name": "python3"
  },
  "language_info": {
   "codemirror_mode": {
    "name": "ipython",
    "version": 3
   },
   "file_extension": ".py",
   "mimetype": "text/x-python",
   "name": "python",
   "nbconvert_exporter": "python",
   "pygments_lexer": "ipython3",
   "version": "3.10.2"
  },
  "orig_nbformat": 4
 },
 "nbformat": 4,
 "nbformat_minor": 2
}
