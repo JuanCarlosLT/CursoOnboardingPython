{
 "cells": [
  {
   "cell_type": "markdown",
   "metadata": {},
   "source": [
    "# Transformar cadenas"
   ]
  },
  {
   "cell_type": "code",
   "execution_count": 25,
   "metadata": {},
   "outputs": [
    {
     "name": "stdout",
     "output_type": "stream",
     "text": [
      "Texto dividido por oracion\n",
      "['Interesting facts about the Moon', \"The Moon is Earth's only satellite\", 'There are several interesting facts about the Moon and how it affects life here on Earth', '\\n\",\"On average, the Moon moves 4cm away from the Earth every year', 'This yearly drift is not significant enough to cause immediate effects on Earth', 'The highest daylight temperature of the Moon is 127 C.']\n",
      "Busqueda en el texto\n",
      "average:  True\n",
      "temperature:  True\n",
      "distance:  False\n",
      "Separacion de las cadenas con:  ['average', 'temperature', 'distance']\n",
      "\n",
      "\",\"On average, the Moon moves 4cm away from the Earth every year\n",
      "Separacion de las cadenas con:  ['average', 'temperature', 'distance']\n",
      "The highest daylight temperature of the Moon is 127 C.\n",
      "Convertir C en Celsius\n",
      "The highest daylight temperature of the Moon is 127 Celsius.\n"
     ]
    }
   ],
   "source": [
    "text = \"\"\"Interesting facts about the Moon. The Moon is Earth's only satellite. There are several interesting facts about the Moon and how it affects life here on Earth. \\n\",\"On average, the Moon moves 4cm away from the Earth every year. This yearly drift is not significant enough to cause immediate effects on Earth. The highest daylight temperature of the Moon is 127 C.\"\"\"\n",
    "\n",
    "# Dividir texto en cada oracion\n",
    "textDividido = text.split('. ')\n",
    "print(\"Texto dividido por oracion\")\n",
    "print(textDividido)\n",
    "# palabras clave para busqueda average, temperature y distance\n",
    "print(\"Busqueda en el texto\")\n",
    "busq1 = 'average' in text\n",
    "print('average: ',busq1)\n",
    "busq2 = 'temperature' in text\n",
    "print('temperature: ',busq2)\n",
    "busq3 = 'distance' in text\n",
    "print('distance: ',busq3)\n",
    "#for para recorrer la cadena\n",
    "palabras_busqueda = ['average','temperature','distance']\n",
    "for separacion in textDividido:\n",
    "    for palabras_bus in palabras_busqueda:\n",
    "        if palabras_bus in separacion:\n",
    "            print('Separacion de las cadenas con: ',palabras_busqueda)\n",
    "            print(separacion)\n",
    "            if 'C' in separacion:\n",
    "                print('Convertir C en Celsius')\n",
    "                conversion = separacion.replace('C','Celsius')\n",
    "                print(conversion)\n",
    "            break\n"
   ]
  },
  {
   "cell_type": "code",
   "execution_count": 36,
   "metadata": {},
   "outputs": [
    {
     "name": "stdout",
     "output_type": "stream",
     "text": [
      "\n",
      "Gravedad En: Moon\n",
      "-------------------------------------------------------------------------------- \n",
      "Nombre del planeta: Earth \n",
      "Gravedad en Moon: 1.6199999999999999 m/s2 \n",
      "\n",
      "\n",
      "\n",
      "Gravedad en: Marte \n",
      "------------------------------------------------------\n",
      "Nombre del planeta: Ganímedes\n",
      "gravedad en Marte : 1.4300000000000002 m/s2\n",
      "\n"
     ]
    }
   ],
   "source": [
    "name = \"Moon\"\n",
    "gravity = 0.00162 # in kms\n",
    "planet = \"Earth\"\n",
    "\n",
    "titulo = f'Gravedad en: {name}'\n",
    "plantilla = f\"\"\"{'-'*80} \n",
    "Nombre del planeta: {planet} \n",
    "Gravedad en {name}: {gravity * 1000} m/s2 \n",
    "\"\"\"\n",
    "union = f\"\"\"\n",
    "{titulo.title()}\n",
    "{plantilla}\n",
    "\"\"\"\n",
    "print(union)\n",
    "\n",
    "#datos prueba\n",
    "nombre = \"Marte \"\n",
    "gravedad = 0.00143\n",
    "planeta = 'Ganímedes'\n",
    "\n",
    "plantillaNueva = \"\"\"\n",
    "Gravedad en: {nombre}\n",
    "------------------------------------------------------\n",
    "Nombre del planeta: {planeta}\n",
    "gravedad en {nombre}: {gravedad} m/s2\n",
    "\"\"\"\n",
    "print(plantillaNueva.format(nombre=nombre, planeta=planeta, gravedad=gravedad*1000))\n"
   ]
  }
 ],
 "metadata": {
  "interpreter": {
   "hash": "409e9466594ad2b05b3243a56daf0c2959e53ee512aeeca6e2f0ff8002f26f46"
  },
  "kernelspec": {
   "display_name": "Python 3.10.2 64-bit",
   "language": "python",
   "name": "python3"
  },
  "language_info": {
   "codemirror_mode": {
    "name": "ipython",
    "version": 3
   },
   "file_extension": ".py",
   "mimetype": "text/x-python",
   "name": "python",
   "nbconvert_exporter": "python",
   "pygments_lexer": "ipython3",
   "version": "3.10.2"
  },
  "orig_nbformat": 4
 },
 "nbformat": 4,
 "nbformat_minor": 2
}
