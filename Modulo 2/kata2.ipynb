{
 "cells": [
  {
   "cell_type": "markdown",
   "metadata": {},
   "source": [
    "# Imagenes de la kata 2\n",
    "\n",
    "imagen dode se ejecuta el codigo env\\Scripts\\activate \n",
    "![](src/img/img1.png)\n",
    "\n",
    "imagen dode se ejecuta dentro de (env) pip freeze, dodnde se muestra que ya se instalo la biblioteca \n",
    "![](src/img/img2.png)\n",
    "\n",
    "imagen donde se sale del entorno vistual \n",
    "![](src/img/img3.png)"
   ]
  }
 ],
 "metadata": {
  "language_info": {
   "name": "python"
  },
  "orig_nbformat": 4
 },
 "nbformat": 4,
 "nbformat_minor": 2
}
