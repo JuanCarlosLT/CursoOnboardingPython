{
 "cells": [
  {
   "cell_type": "code",
   "execution_count": 4,
   "metadata": {},
   "outputs": [
    {
     "name": "stdout",
     "output_type": "stream",
     "text": [
      " 'Mars tiene 42 lunas' \n",
      " 'Mars su circunferencia polar es:6752 ' \n"
     ]
    }
   ],
   "source": [
    "planet = {\n",
    "    'name': 'Mars',\n",
    "    'moons': 42\n",
    "}\n",
    "print(f\"\"\" '{planet['name']} tiene {planet['moons']} lunas' \"\"\")\n",
    "\n",
    "planet.update({\n",
    "    'circunferencia (km)': {\n",
    "        'polar':6752,\n",
    "        'equatorial':6792\n",
    "    }\n",
    "})\n",
    "print(f\"\"\" '{planet['name']} su circunferencia polar es:{planet['circunferencia (km)']['polar']} ' \"\"\")"
   ]
  },
  {
   "cell_type": "code",
   "execution_count": 11,
   "metadata": {},
   "outputs": [
    {
     "name": "stdout",
     "output_type": "stream",
     "text": [
      "Numero de planetas: 12\n",
      "Este es el total de lunas: 214\n",
      "Este es el promedio: 17.833333333333332\n"
     ]
    }
   ],
   "source": [
    "planet_moons = {\n",
    "    'mercury': 0,\n",
    "    'venus': 0,\n",
    "    'earth': 1,\n",
    "    'mars': 2,\n",
    "    'jupiter': 79,\n",
    "    'saturn': 82,\n",
    "    'uranus': 27,\n",
    "    'neptune': 14,\n",
    "    'pluto': 5,\n",
    "    'haumea': 2,\n",
    "    'makemake': 1,\n",
    "    'eris': 1\n",
    "}\n",
    "\n",
    "numero_planetas = len(planet_moons.keys())\n",
    "print(f\"Numero de planetas: {numero_planetas}\")\n",
    "total_lunas = 0\n",
    "for value in planet_moons.values():\n",
    "    total_lunas = total_lunas + value\n",
    "print(f\"Este es el total de lunas: {total_lunas}\")\n",
    "\n",
    "print(f\"Este es el promedio: {total_lunas / numero_planetas}\")"
   ]
  }
 ],
 "metadata": {
  "interpreter": {
   "hash": "409e9466594ad2b05b3243a56daf0c2959e53ee512aeeca6e2f0ff8002f26f46"
  },
  "kernelspec": {
   "display_name": "Python 3.10.2 64-bit",
   "language": "python",
   "name": "python3"
  },
  "language_info": {
   "codemirror_mode": {
    "name": "ipython",
    "version": 3
   },
   "file_extension": ".py",
   "mimetype": "text/x-python",
   "name": "python",
   "nbconvert_exporter": "python",
   "pygments_lexer": "ipython3",
   "version": "3.10.2"
  },
  "orig_nbformat": 4
 },
 "nbformat": 4,
 "nbformat_minor": 2
}
