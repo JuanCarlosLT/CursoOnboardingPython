{
 "cells": [
  {
   "cell_type": "code",
   "execution_count": 3,
   "metadata": {},
   "outputs": [
    {
     "name": "stdout",
     "output_type": "stream",
     "text": [
      "El asteroide se acerca\n"
     ]
    }
   ],
   "source": [
    "advertencia = 25\n",
    "asteroide = 49\n",
    "if asteroide > advertencia:\n",
    "    #advertencia\n",
    "    print(\"El asteroide se acerca\")\n",
    "else:\n",
    "    #No pasa nada\n",
    "    print(\"El asteroide esta lejos\")"
   ]
  },
  {
   "cell_type": "code",
   "execution_count": 4,
   "metadata": {},
   "outputs": [
    {
     "name": "stdout",
     "output_type": "stream",
     "text": [
      "El asteroide esta lejos\n"
     ]
    }
   ],
   "source": [
    "advertencia = 20\n",
    "asteroide = 19\n",
    "verluz = True\n",
    "if asteroide >= advertencia:\n",
    "    #advertencia\n",
    "    print(\"El asteroide se acerca\")\n",
    "    if verluz == True:\n",
    "        #se ve la luz\n",
    "        print(\"Luz en el cielo\")\n",
    "    elif verluz == False:\n",
    "        #no se ve la luz\n",
    "        print(\"No hay nada en el cielo\")\n",
    "else:\n",
    "    #No pasa nada\n",
    "    print(\"El asteroide esta lejos\")"
   ]
  },
  {
   "cell_type": "code",
   "execution_count": 5,
   "metadata": {},
   "outputs": [
    {
     "name": "stdout",
     "output_type": "stream",
     "text": [
      "Look up! ¡Hay una luz mágica en el cielo!\n"
     ]
    }
   ],
   "source": [
    "velocidad_asteroide = 25\n",
    "tamano_asteroide = 40\n",
    "if velocidad_asteroide > 25 and tamano_asteroide > 25:\n",
    "    print('¡Alerta, Un asteroide muy peligroso viene hacia la Tierra!')\n",
    "elif velocidad_asteroide >= 20:\n",
    "    print('Look up! ¡Hay una luz mágica en el cielo!')\n",
    "elif tamano_asteroide < 25:\n",
    "    print('Nada que ver aquí :)')\n",
    "else:\n",
    "    print('Nada que ver aquí :)')"
   ]
  }
 ],
 "metadata": {
  "interpreter": {
   "hash": "409e9466594ad2b05b3243a56daf0c2959e53ee512aeeca6e2f0ff8002f26f46"
  },
  "kernelspec": {
   "display_name": "Python 3.10.2 64-bit",
   "language": "python",
   "name": "python3"
  },
  "language_info": {
   "codemirror_mode": {
    "name": "ipython",
    "version": 3
   },
   "file_extension": ".py",
   "mimetype": "text/x-python",
   "name": "python",
   "nbconvert_exporter": "python",
   "pygments_lexer": "ipython3",
   "version": "3.10.2"
  },
  "orig_nbformat": 4
 },
 "nbformat": 4,
 "nbformat_minor": 2
}
