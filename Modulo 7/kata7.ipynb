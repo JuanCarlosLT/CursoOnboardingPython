{
 "cells": [
  {
   "cell_type": "code",
   "execution_count": 1,
   "metadata": {},
   "outputs": [
    {
     "name": "stdout",
     "output_type": "stream",
     "text": [
      "Estos son los planetas ingresados:  ['jupiter', 'marte', 'tierra', 'saturno', 'urano', 'mercurio']\n"
     ]
    }
   ],
   "source": [
    "new_planet = ''\n",
    "planets = []\n",
    "\n",
    "while new_planet.lower() != 'done':\n",
    "    if new_planet:\n",
    "        planets.append(new_planet)\n",
    "    new_planet = input(\"Escribe un planeta, si ya no quieres ingresas planetas escribe 'done'\")\n",
    "print(\"Estos son los planetas ingresados: \",planets)"
   ]
  },
  {
   "cell_type": "code",
   "execution_count": 6,
   "metadata": {},
   "outputs": [
    {
     "name": "stdout",
     "output_type": "stream",
     "text": [
      "Este es el planeta numero :  1  -  Jupiter\n",
      "Este es el planeta numero :  2  -  Marte\n",
      "Este es el planeta numero :  3  -  Tierra\n",
      "Este es el planeta numero :  4  -  Saturno\n",
      "Este es el planeta numero :  5  -  Urano\n",
      "Este es el planeta numero :  6  -  Mercurio\n"
     ]
    }
   ],
   "source": [
    "for index in range(len(planets)):\n",
    "    print(\"Este es el planeta numero : \",index +1,\" - \",str(planets[index]).capitalize())"
   ]
  }
 ],
 "metadata": {
  "interpreter": {
   "hash": "409e9466594ad2b05b3243a56daf0c2959e53ee512aeeca6e2f0ff8002f26f46"
  },
  "kernelspec": {
   "display_name": "Python 3.10.2 64-bit",
   "language": "python",
   "name": "python3"
  },
  "language_info": {
   "codemirror_mode": {
    "name": "ipython",
    "version": 3
   },
   "file_extension": ".py",
   "mimetype": "text/x-python",
   "name": "python",
   "nbconvert_exporter": "python",
   "pygments_lexer": "ipython3",
   "version": "3.10.2"
  },
  "orig_nbformat": 4
 },
 "nbformat": 4,
 "nbformat_minor": 2
}
